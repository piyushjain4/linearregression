{
  "nbformat": 4,
  "nbformat_minor": 0,
  "metadata": {
    "colab": {
      "name": "polynomial_reg_.ipynb",
      "provenance": [],
      "collapsed_sections": []
    },
    "kernelspec": {
      "name": "python3",
      "display_name": "Python 3"
    },
    "language_info": {
      "name": "python"
    }
  },
  "cells": [
    {
      "cell_type": "code",
      "execution_count": null,
      "metadata": {
        "id": "-sOX2ZzsV3Wm"
      },
      "outputs": [],
      "source": [
        "import numpy as np\n",
        "import pandas as pd\n",
        "import matplotlib\n",
        "from matplotlib import pyplot as plt\n",
        "from google.colab import files"
      ]
    },
    {
      "cell_type": "code",
      "source": [
        "uploaded = files.upload()"
      ],
      "metadata": {
        "id": "B9rlDH2cWR5h"
      },
      "execution_count": null,
      "outputs": []
    },
    {
      "cell_type": "code",
      "source": [
        "df=pd.read_csv(\"Polynomial_train.csv\",index_col=0)\n",
        "df.head()"
      ],
      "metadata": {
        "id": "JgLzCJzsWeHU"
      },
      "execution_count": null,
      "outputs": []
    },
    {
      "cell_type": "code",
      "source": [
        "xa=df.drop([\"label\"],axis=1)"
      ],
      "metadata": {
        "id": "2c5lt6RlW5ti"
      },
      "execution_count": null,
      "outputs": []
    },
    {
      "cell_type": "code",
      "source": [
        "xa"
      ],
      "metadata": {
        "id": "WRI7NzbFXAfD"
      },
      "execution_count": null,
      "outputs": []
    },
    {
      "cell_type": "code",
      "source": [
        "ya=df[['label']]\n",
        "ya"
      ],
      "metadata": {
        "id": "9VsUFCfJXBNs"
      },
      "execution_count": null,
      "outputs": []
    },
    {
      "cell_type": "code",
      "source": [
        "xa['X*Y'] = xa.X * xa.Y"
      ],
      "metadata": {
        "id": "Kir6ozvNXRkR"
      },
      "execution_count": null,
      "outputs": []
    },
    {
      "cell_type": "code",
      "source": [
        "xa['Y*Z'] = xa.Y * xa.Z"
      ],
      "metadata": {
        "id": "L2RcdEE3Yle7"
      },
      "execution_count": null,
      "outputs": []
    },
    {
      "cell_type": "code",
      "source": [
        "xa['X*Z'] = xa.X * xa.Z"
      ],
      "metadata": {
        "id": "FBqzOQdeZGAo"
      },
      "execution_count": null,
      "outputs": []
    },
    {
      "cell_type": "code",
      "source": [
        "xa['X*X'] = xa.X * xa.X"
      ],
      "metadata": {
        "id": "VaDo09LeZb6U"
      },
      "execution_count": null,
      "outputs": []
    },
    {
      "cell_type": "code",
      "source": [
        "xa['Y*Y'] = xa.Y* xa.Y\n"
      ],
      "metadata": {
        "id": "u5Qme3FWZnRL"
      },
      "execution_count": null,
      "outputs": []
    },
    {
      "cell_type": "code",
      "source": [
        "xa['Z*Z'] = xa.Z * xa.Z"
      ],
      "metadata": {
        "id": "gxjz2AMAZs27"
      },
      "execution_count": null,
      "outputs": []
    },
    {
      "cell_type": "code",
      "source": [
        "xa"
      ],
      "metadata": {
        "id": "DQB99W6OZMbE"
      },
      "execution_count": null,
      "outputs": []
    },
    {
      "cell_type": "code",
      "source": [
        "from sklearn.preprocessing import MinMaxScaler\n",
        "norm = MinMaxScaler().fit(xa)\n",
        "xa_norm = norm.transform(xa)"
      ],
      "metadata": {
        "id": "NzSaZGVraFng"
      },
      "execution_count": null,
      "outputs": []
    },
    {
      "cell_type": "code",
      "source": [
        "def linear_reg_model(X,Y,alpha,iteration):\n",
        "  m = X.shape[0]\n",
        "  ones = np.ones((m,1),dtype = float)\n",
        "  costlist =[]\n",
        "  X = np.concatenate((ones,X),axis = 1)\n",
        "  n = X.shape[1] \n",
        "  theta = np.ones((n,1),dtype=float)\n",
        "  for i in range(iteration): \n",
        "    h =np.dot(X,theta)\n",
        "    error = h-Y\n",
        "    sqerror = np.square(h-Y)\n",
        "    cost = 1/(2*m)*(np.sum(sqerror))\n",
        "    costlist.append(cost)\n",
        "    theta = theta-(alpha/m)*(np.dot(X.transpose(),error))\n",
        "    if i%100 == 0:\n",
        "      print (\"cost= {}\".format(costlist))\n",
        "\n",
        "  return costlist,theta"
      ],
      "metadata": {
        "id": "VH-xyKddafag"
      },
      "execution_count": null,
      "outputs": []
    },
    {
      "cell_type": "code",
      "source": [
        "costlist,theta = linear_reg_model(xa_norm,ya,0.1,10000)\n",
        "print(theta)"
      ],
      "metadata": {
        "id": "E7n5XFDJao1B"
      },
      "execution_count": null,
      "outputs": []
    },
    {
      "cell_type": "code",
      "source": [
        "print(costlist)"
      ],
      "metadata": {
        "id": "ZxhHv055apmR"
      },
      "execution_count": null,
      "outputs": []
    },
    {
      "cell_type": "code",
      "source": [
        "plt.title(\"cost on training data vs. iterations\") \n",
        "plt.xlabel(\"No. of iteration\") \n",
        "plt.ylabel(\"cost\") \n",
        "plt.plot(costlist) \n",
        "plt.show()"
      ],
      "metadata": {
        "id": "7G-BYwWcax2m"
      },
      "execution_count": null,
      "outputs": []
    },
    {
      "cell_type": "code",
      "source": [
        "uploaded = files.upload()"
      ],
      "metadata": {
        "id": "nGlYpxZja1kk"
      },
      "execution_count": null,
      "outputs": []
    },
    {
      "cell_type": "code",
      "source": [
        "dft=pd.read_csv(\"Polynomial_test.csv\",index_col = 0)\n",
        "dft.head()"
      ],
      "metadata": {
        "id": "pQY70NKHa58L"
      },
      "execution_count": null,
      "outputs": []
    },
    {
      "cell_type": "code",
      "source": [
        "x_test = dft.drop([\"label\"],axis = 1) "
      ],
      "metadata": {
        "id": "XMfkHbUJbATo"
      },
      "execution_count": null,
      "outputs": []
    },
    {
      "cell_type": "code",
      "source": [
        "x_test['X*Y'] = x_test.X * x_test.Y\n",
        "x_test['Y*Z'] = x_test.Y * x_test.Z\n",
        "x_test['X*Z'] = x_test.X * x_test.Z\n",
        "x_test['X*X'] = x_test.X * x_test.X\n",
        "x_test['Y*Y'] = x_test.Y* x_test.Y\n",
        "x_test['Z*Z'] = x_test.Z * x_test.Z\n",
        "\n"
      ],
      "metadata": {
        "id": "R-bYk4MXb_2e"
      },
      "execution_count": null,
      "outputs": []
    },
    {
      "cell_type": "code",
      "source": [
        "xa"
      ],
      "metadata": {
        "id": "l1OCiOCbeRO4"
      },
      "execution_count": null,
      "outputs": []
    },
    {
      "cell_type": "code",
      "source": [
        "y_test = dft[['label']]"
      ],
      "metadata": {
        "id": "3G5-tNSkebDL"
      },
      "execution_count": null,
      "outputs": []
    },
    {
      "cell_type": "code",
      "source": [
        "ones = np.ones((x_test.shape[0],1),dtype= int)"
      ],
      "metadata": {
        "id": "u5Mvy458edMC"
      },
      "execution_count": null,
      "outputs": []
    },
    {
      "cell_type": "code",
      "source": [
        "x_test = np.concatenate((ones,x_test),axis = 1)"
      ],
      "metadata": {
        "id": "QPheMZpiemLe"
      },
      "execution_count": null,
      "outputs": []
    },
    {
      "cell_type": "code",
      "source": [
        "np.shape(x_test)"
      ],
      "metadata": {
        "id": "eGHMFTlSen_e"
      },
      "execution_count": null,
      "outputs": []
    },
    {
      "cell_type": "code",
      "source": [
        "from sklearn.preprocessing import MinMaxScaler\n",
        "norm = MinMaxScaler().fit(x_test)\n",
        "x_test_norm = norm.transform(x_test)"
      ],
      "metadata": {
        "id": "FZWIjDDVfHJA"
      },
      "execution_count": null,
      "outputs": []
    },
    {
      "cell_type": "code",
      "source": [
        "y_pred = np.dot(x_test_norm,theta)"
      ],
      "metadata": {
        "id": "wlqbiKMgUtvw"
      },
      "execution_count": null,
      "outputs": []
    },
    {
      "cell_type": "code",
      "source": [
        "d = y_test-y_pred\n",
        "rootmeansq = ((np.dot(np.transpose(d),d))/10000)**(0.5)\n",
        "rootmeansq"
      ],
      "metadata": {
        "id": "O0-QJuFsVMlN"
      },
      "execution_count": null,
      "outputs": []
    }
  ]
}