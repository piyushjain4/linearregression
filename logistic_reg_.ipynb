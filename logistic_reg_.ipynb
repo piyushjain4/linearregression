{
  "nbformat": 4,
  "nbformat_minor": 0,
  "metadata": {
    "colab": {
      "name": "logistic_reg_.ipynb",
      "provenance": [],
      "collapsed_sections": []
    },
    "kernelspec": {
      "name": "python3",
      "display_name": "Python 3"
    },
    "language_info": {
      "name": "python"
    }
  },
  "cells": [
    {
      "cell_type": "code",
      "execution_count": null,
      "metadata": {
        "id": "jWrs2QCMRU9G"
      },
      "outputs": [],
      "source": [
        "import numpy as np\n",
        "import pandas as pd\n",
        "import matplotlib\n",
        "from matplotlib import pyplot as plt\n",
        "from google.colab import files"
      ]
    },
    {
      "cell_type": "code",
      "source": [
        "uploaded = files.upload()"
      ],
      "metadata": {
        "id": "ncdxdDb-RztI"
      },
      "execution_count": null,
      "outputs": []
    },
    {
      "cell_type": "code",
      "source": [
        "df = pd.read_csv(\"emnist-letters-train.csv\",header = None)\n",
        "df.head()"
      ],
      "metadata": {
        "id": "I0Ps09E6DFwc"
      },
      "execution_count": null,
      "outputs": []
    },
    {
      "cell_type": "code",
      "source": [
        "df.columns"
      ],
      "metadata": {
        "id": "1sb08XhfvKCf"
      },
      "execution_count": null,
      "outputs": []
    },
    {
      "cell_type": "code",
      "source": [
        "xa =df.drop(labels= 0, axis=1)\n",
        "xa"
      ],
      "metadata": {
        "id": "2tb49DSDEHDp"
      },
      "execution_count": null,
      "outputs": []
    },
    {
      "cell_type": "code",
      "source": [
        "ya =df[[0]]\n",
        "ya"
      ],
      "metadata": {
        "id": "uhu0ne9PJYlW"
      },
      "execution_count": null,
      "outputs": []
    },
    {
      "cell_type": "code",
      "source": [
        "from sklearn.preprocessing import MinMaxScaler\n",
        "norm = MinMaxScaler().fit(xa)\n",
        "xa_norm = norm.transform(xa)"
      ],
      "metadata": {
        "id": "rF6PDxXiJgLr"
      },
      "execution_count": null,
      "outputs": []
    },
    {
      "cell_type": "code",
      "source": [
        "np.shape(xa_norm)"
      ],
      "metadata": {
        "id": "LFtZHcyxEthh"
      },
      "execution_count": null,
      "outputs": []
    },
    {
      "cell_type": "code",
      "source": [
        "ones = np.ones((len(xa_norm),1),dtype = float)"
      ],
      "metadata": {
        "id": "3SSKSpwM7aRJ"
      },
      "execution_count": null,
      "outputs": []
    },
    {
      "cell_type": "code",
      "source": [
        "xa_norms =np.concatenate((ones,xa_norm),axis = 1)"
      ],
      "metadata": {
        "id": "yOJHz8QH7SJI"
      },
      "execution_count": null,
      "outputs": []
    },
    {
      "cell_type": "code",
      "source": [
        "np.shape(xa_norms)"
      ],
      "metadata": {
        "id": "XD0m5zv6FBAI"
      },
      "execution_count": null,
      "outputs": []
    },
    {
      "cell_type": "code",
      "source": [
        "print(xa_norms)"
      ],
      "metadata": {
        "id": "r3yDpAzf7sai"
      },
      "execution_count": null,
      "outputs": []
    },
    {
      "cell_type": "code",
      "source": [
        "def sigmoid(theta,X):\n",
        "  Z = np.dot(X,theta)\n",
        "  h = 1/(1+np.exp(-Z))\n",
        "  return h"
      ],
      "metadata": {
        "id": "4sCzVQ-fKaHD"
      },
      "execution_count": null,
      "outputs": []
    },
    {
      "cell_type": "code",
      "source": [
        "def cost(theta,X,Y):\n",
        "  cost0 = np.dot(np.transpose(Y),np.log(sigmoid(theta,X)))\n",
        "  cost1 =  np.dot(np.transpose(1-Y),np.log(1-sigmoid(theta,X)))\n",
        "  totalcost = -((cost1 + cost0))/len(Y) \n",
        "  return totalcost"
      ],
      "metadata": {
        "id": "IZcwtoPYL-8I"
      },
      "execution_count": null,
      "outputs": []
    },
    {
      "cell_type": "code",
      "source": [
        "some_digit = xa_norm[1]"
      ],
      "metadata": {
        "id": "Ew7-VXCEJMOy"
      },
      "execution_count": null,
      "outputs": []
    },
    {
      "cell_type": "code",
      "source": [
        "some_digit_image = some_digit.reshape(28,28)"
      ],
      "metadata": {
        "id": "vD_3vRmhJe3S"
      },
      "execution_count": null,
      "outputs": []
    },
    {
      "cell_type": "code",
      "source": [
        "plt.imshow(some_digit_image,cmap = matplotlib.cm.binary,interpolation = \"nearest\")"
      ],
      "metadata": {
        "id": "JkWc4K7eJpbn"
      },
      "execution_count": null,
      "outputs": []
    },
    {
      "cell_type": "code",
      "source": [
        "m = len(ya)\n",
        "m"
      ],
      "metadata": {
        "id": "GmLmE9wgBc0D"
      },
      "execution_count": null,
      "outputs": []
    },
    {
      "cell_type": "code",
      "source": [
        "a =np.ones((m,1),dtype = int)\n",
        "for i in range(m):\n",
        "  if ya.loc[i].iat[0] == 1:\n",
        "    a[i] = 1\n",
        "  else:\n",
        "    a[i] = 0\n",
        "a\n"
      ],
      "metadata": {
        "id": "DFvTvQjGxVfR"
      },
      "execution_count": null,
      "outputs": []
    },
    {
      "cell_type": "code",
      "source": [
        "b =np.ones((m,1),dtype = int)\n",
        "for i in range(m):\n",
        "  if ya.loc[i].iat[0] == 2:\n",
        "    b[i] = 1\n",
        "  else:\n",
        "    b[i] = 0\n",
        "b"
      ],
      "metadata": {
        "id": "aBogwrGDoG3u"
      },
      "execution_count": null,
      "outputs": []
    },
    {
      "cell_type": "code",
      "source": [
        "c =np.ones((m,1),dtype = int)\n",
        "for i in range(m):\n",
        "  if ya.loc[i].iat[0] == 13:\n",
        "    c[i] = 1\n",
        "  else:\n",
        "    c[i] = 0\n",
        "c\n",
        "\n"
      ],
      "metadata": {
        "id": "m1qKhrhhydid"
      },
      "execution_count": null,
      "outputs": []
    },
    {
      "cell_type": "code",
      "source": [
        "d =np.ones((m,1),dtype = int)\n",
        "for i in range(m):\n",
        "  if ya.loc[i].iat[0] == 4:\n",
        "    d[i] = 1\n",
        "  else:\n",
        "    d[i] = 0\n",
        "d\n",
        "\n"
      ],
      "metadata": {
        "id": "bB9-76cmy3Gu"
      },
      "execution_count": null,
      "outputs": []
    },
    {
      "cell_type": "code",
      "source": [
        "e =np.ones((m,1),dtype = int)\n",
        "for i in range(m):\n",
        "  if ya.iloc[i].iat[0] == 5:\n",
        "    e[i] = 1\n",
        "  else:\n",
        "    e[i] = 0\n",
        "e\n"
      ],
      "metadata": {
        "id": "92elcyHKzFKr"
      },
      "execution_count": null,
      "outputs": []
    },
    {
      "cell_type": "code",
      "source": [
        "f =np.ones((m,1),dtype = int)\n",
        "for i in range(m):\n",
        "  if ya.loc[i].iat[0] == 6:\n",
        "    f[i] = 1\n",
        "  else:\n",
        "    f[i] = 0\n",
        "f\n",
        "\n"
      ],
      "metadata": {
        "id": "OiPG-FrazNuN"
      },
      "execution_count": null,
      "outputs": []
    },
    {
      "cell_type": "code",
      "source": [
        "g =np.ones((m,1),dtype = int)\n",
        "for i in range(m):\n",
        "  if ya.loc[i].iat[0] == 7:\n",
        "    g[i] = 1\n",
        "  else:\n",
        "    g[i] = 0\n",
        "g\n",
        "\n"
      ],
      "metadata": {
        "id": "U4TjUP3_zVGt"
      },
      "execution_count": null,
      "outputs": []
    },
    {
      "cell_type": "code",
      "source": [
        "h =np.ones((m,1),dtype = int)\n",
        "for i in range(m):\n",
        "  if ya.loc[i].iat[0] == 8:\n",
        "    h[i] = 1\n",
        "  else:\n",
        "    h[i] = 0\n",
        "h\n"
      ],
      "metadata": {
        "id": "OSLV3--Mze4a"
      },
      "execution_count": null,
      "outputs": []
    },
    {
      "cell_type": "code",
      "source": [
        "I=np.ones((m,1),dtype = int)\n",
        "for i in range(m):\n",
        "  if ya.loc[i].iat[0] == 9:\n",
        "    I[i] = 1\n",
        "  else:\n",
        "    I[i] = 0\n",
        "I\n"
      ],
      "metadata": {
        "id": "QVKgUr3wzlxJ"
      },
      "execution_count": null,
      "outputs": []
    },
    {
      "cell_type": "code",
      "source": [
        "j =np.ones((m,1),dtype = int)\n",
        "for i in range(m):\n",
        "  if ya.loc[i].iat[0] == 10:\n",
        "    j[i] = 1\n",
        "  else:\n",
        "    j[i] = 0\n",
        "j\n"
      ],
      "metadata": {
        "id": "EMEsKtr9zx13"
      },
      "execution_count": null,
      "outputs": []
    },
    {
      "cell_type": "code",
      "source": [
        "k =np.ones((m,1),dtype = int)\n",
        "for i in range(m):\n",
        "  if ya.loc[i].iat[0] == 11:\n",
        "    k[i] = 1\n",
        "  else:\n",
        "    k[i] = 0\n",
        "k\n",
        "\n"
      ],
      "metadata": {
        "id": "vOUZgbB9z_pm"
      },
      "execution_count": null,
      "outputs": []
    },
    {
      "cell_type": "code",
      "source": [
        "l =np.ones((m,1),dtype = int)\n",
        "for i in range(m):\n",
        "  if ya.loc[i].iat[0] == 12:\n",
        "    l[i] = 1\n",
        "  else:\n",
        "    l[i] = 0\n",
        "l\n"
      ],
      "metadata": {
        "id": "yCtJG5iN0H8i"
      },
      "execution_count": null,
      "outputs": []
    },
    {
      "cell_type": "code",
      "source": [
        "M = np.ones((m,1),dtype = int)\n",
        "for i in range(m):\n",
        "  if ya.loc[i].iat[0] == 13:\n",
        "    M[i] = 1\n",
        "  else:\n",
        "    M[i] = 0\n",
        "M\n",
        "\n",
        "\n"
      ],
      "metadata": {
        "id": "oC-Ve7uE1YME"
      },
      "execution_count": null,
      "outputs": []
    },
    {
      "cell_type": "code",
      "source": [
        "n =np.ones((m,1),dtype = int)\n",
        "for i in range(m):\n",
        "  if ya.loc[i].iat[0] == 14:\n",
        "    n[i] = 1\n",
        "  else:\n",
        "    n[i] = 0\n",
        "n\n",
        "\n"
      ],
      "metadata": {
        "id": "r1a_fh591gUH"
      },
      "execution_count": null,
      "outputs": []
    },
    {
      "cell_type": "code",
      "source": [
        "o =np.ones((m,1),dtype = int)\n",
        "for i in range(m):\n",
        "  if ya.loc[i].iat[0] == 15:\n",
        "    o[i] = 1\n",
        "  else:\n",
        "    o[i] = 0\n",
        "o\n"
      ],
      "metadata": {
        "id": "YX0_mh7a20EB"
      },
      "execution_count": null,
      "outputs": []
    },
    {
      "cell_type": "code",
      "source": [
        "p =np.ones((m,1),dtype = int)\n",
        "for i in range(m):\n",
        "  if ya.loc[i].iat[0] == 16:\n",
        "    p[i] = 1\n",
        "  else:\n",
        "    p[i] = 0\n",
        "p\n"
      ],
      "metadata": {
        "id": "0F4otoBp1qPZ"
      },
      "execution_count": null,
      "outputs": []
    },
    {
      "cell_type": "code",
      "source": [
        "q =np.ones((m,1),dtype = int)\n",
        "for i in range(m):\n",
        "  if ya.loc[i].iat[0] == 17:\n",
        "    q[i] = 1\n",
        "  else:\n",
        "    q[i] = 0\n",
        "q\n"
      ],
      "metadata": {
        "id": "NYwL7cR117Qz"
      },
      "execution_count": null,
      "outputs": []
    },
    {
      "cell_type": "code",
      "source": [
        "r =np.ones((m,1),dtype = int)\n",
        "for i in range(0,m):\n",
        "  if ya.loc[i].iat[0] == 18:\n",
        "    r[i] = 1\n",
        "  else:\n",
        "    r[i] = 0\n",
        "r\n"
      ],
      "metadata": {
        "id": "yuTkOLI12CUZ"
      },
      "execution_count": null,
      "outputs": []
    },
    {
      "cell_type": "code",
      "source": [
        "s =np.ones((m,1),dtype = int)\n",
        "for i in range(m):\n",
        "  if ya.loc[i].iat[0] == 19:\n",
        "    s[i] = 1\n",
        "  else:\n",
        "    s[i] = 0\n",
        "s"
      ],
      "metadata": {
        "id": "3fAJ8Q-15vPP"
      },
      "execution_count": null,
      "outputs": []
    },
    {
      "cell_type": "code",
      "source": [
        "t =np.ones((m,1),dtype = int)\n",
        "for i in range(0,m):\n",
        "  if ya.loc[i].iat[0] == 20:\n",
        "    t[i] = 1\n",
        "  else:\n",
        "    t[i] = 0\n",
        "t"
      ],
      "metadata": {
        "id": "hBU3Hz_U6Kkx"
      },
      "execution_count": null,
      "outputs": []
    },
    {
      "cell_type": "code",
      "source": [
        "u =np.ones((m,1),dtype = int)\n",
        "for i in range(0,m):\n",
        "  if ya.loc[i].iat[0] == 21:\n",
        "    u[i] = 1\n",
        "  else:\n",
        "    u[i] = 0\n",
        "u"
      ],
      "metadata": {
        "id": "_eMMdHK96QbL"
      },
      "execution_count": null,
      "outputs": []
    },
    {
      "cell_type": "code",
      "source": [
        "v =np.ones((m,1),dtype = int)\n",
        "for i in range(0,m):\n",
        "  if ya.loc[i].iat[0] == 22:\n",
        "    v[i] = 1\n",
        "  else:\n",
        "    v[i] = 0\n",
        "v"
      ],
      "metadata": {
        "id": "erFenzw_6WNa"
      },
      "execution_count": null,
      "outputs": []
    },
    {
      "cell_type": "code",
      "source": [
        "w =np.ones((m,1),dtype = int)\n",
        "for i in range(0,m):\n",
        "  if ya.loc[i].iat[0] == 23:\n",
        "    w[i] = 1\n",
        "  else:\n",
        "    w[i] = 0\n",
        "w"
      ],
      "metadata": {
        "id": "QGNvMcZ16bKD"
      },
      "execution_count": null,
      "outputs": []
    },
    {
      "cell_type": "code",
      "source": [
        "x =np.ones((m,1),dtype = int)\n",
        "for i in range(0,m):\n",
        "  if ya.loc[i].iat[0] == 24:\n",
        "    x[i] = 1\n",
        "  else:\n",
        "    x[i] = 0\n",
        "x"
      ],
      "metadata": {
        "id": "1wdVYjir6fzu"
      },
      "execution_count": null,
      "outputs": []
    },
    {
      "cell_type": "code",
      "source": [
        "y =np.ones((m,1),dtype = int)\n",
        "for i in range(0,m):\n",
        "  if ya.loc[i].iat[0] == 25:\n",
        "    y[i] = 1\n",
        "  else:\n",
        "    y[i] = 0\n",
        "y"
      ],
      "metadata": {
        "id": "pu18xfO66kjk"
      },
      "execution_count": null,
      "outputs": []
    },
    {
      "cell_type": "code",
      "source": [
        "z =np.ones((m,1),dtype = int)\n",
        "for i in range(0,m):\n",
        "  if ya.loc[i].iat[0] == 26:\n",
        "    z[i] = 1\n",
        "  else:\n",
        "    z[i] = 0\n",
        "z"
      ],
      "metadata": {
        "id": "lUOQ5WCl6pxi"
      },
      "execution_count": null,
      "outputs": []
    },
    {
      "cell_type": "code",
      "source": [
        "y1 = np.concatenate((a,b,c,d,e,f,g,h,I,j,k,l,M,n,o,p,q,r,s,t,u,v,w,x,y,z),axis = 1) \n",
        "np.shape(y1)"
      ],
      "metadata": {
        "id": "gRkn9Eyj6v0g"
      },
      "execution_count": null,
      "outputs": []
    },
    {
      "cell_type": "code",
      "source": [
        "theta = np.zeros([xa_norms.shape[1], y1.shape[1]])\n",
        "theta"
      ],
      "metadata": {
        "id": "3W1ec-zPLDH-"
      },
      "execution_count": null,
      "outputs": []
    },
    {
      "cell_type": "code",
      "source": [
        "def log_reg_model(X, Y, theta, alpha,iteration):\n",
        "    m = len(X)\n",
        "    n =X.shape[1]\n",
        "    costlist = []\n",
        "    theta = np.zeros((n, Y.shape[1]),dtype = float)\n",
        "    for i in range(0, iteration):\n",
        "        for j in range(0, 25):\n",
        "             h = sigmoid(theta[:,j], X)\n",
        "             error = h-Y[:,j]\n",
        "             theta[:, j] -= (alpha/m) * (np.dot(X.transpose(),error))\n",
        "             c =cost(X, Y[:, j], theta[:,j])\n",
        "             costlist.append(c)\n",
        "    return theta, costlist\n"
      ],
      "metadata": {
        "id": "5F0VY-weLgAS"
      },
      "execution_count": null,
      "outputs": []
    },
    {
      "cell_type": "code",
      "source": [
        "theta,costlist = log_reg_model(xa_norms, y1, theta, 0.1, 1500)"
      ],
      "metadata": {
        "id": "OF6ZrLQwPgd5"
      },
      "execution_count": null,
      "outputs": []
    },
    {
      "cell_type": "code",
      "source": [
        "uploaded = files.upload()"
      ],
      "metadata": {
        "id": "WTtIh51tgzTb"
      },
      "execution_count": null,
      "outputs": []
    },
    {
      "cell_type": "code",
      "source": [
        "df = pd.read_csv(\"emnist-letters-test.csv\",header = None)\n",
        "df.head()"
      ],
      "metadata": {
        "id": "gC4UHfC5hFR4"
      },
      "execution_count": null,
      "outputs": []
    },
    {
      "cell_type": "code",
      "source": [
        "x_test =df.drop(labels= 0, axis=1)\n",
        "x_test"
      ],
      "metadata": {
        "id": "7pzU4GCYhOSE"
      },
      "execution_count": null,
      "outputs": []
    },
    {
      "cell_type": "code",
      "source": [
        "y_test =df[[0]]\n",
        "y_test"
      ],
      "metadata": {
        "id": "uOXRy_XlheDr"
      },
      "execution_count": null,
      "outputs": []
    },
    {
      "cell_type": "code",
      "source": [
        "from sklearn.preprocessing import MinMaxScaler\n",
        "norm = MinMaxScaler().fit(x_test)\n",
        "x_test_norm = norm.transform(x_test)"
      ],
      "metadata": {
        "id": "HNQhBTlnhqCS"
      },
      "execution_count": null,
      "outputs": []
    },
    {
      "cell_type": "code",
      "source": [
        "ones = np.ones((len(x_test_norm),1),dtype = float)"
      ],
      "metadata": {
        "id": "Xseb2Hjcgx6M"
      },
      "execution_count": null,
      "outputs": []
    },
    {
      "cell_type": "code",
      "source": [
        "x_test_norms =np.concatenate((ones,x_test_norm),axis = 1)"
      ],
      "metadata": {
        "id": "hgdoHP8Sh5jj"
      },
      "execution_count": null,
      "outputs": []
    },
    {
      "cell_type": "code",
      "source": [
        "for j in range(0,25):\n",
        "  h = sigmoid(theta[:,j], x_test_norms)"
      ],
      "metadata": {
        "id": "FFGORo3ignx2"
      },
      "execution_count": null,
      "outputs": []
    },
    {
      "cell_type": "code",
      "source": [
        "np.shape(h)"
      ],
      "metadata": {
        "id": "_r5qGzHH_E2i"
      },
      "execution_count": null,
      "outputs": []
    },
    {
      "cell_type": "code",
      "source": [
        "np.amax(h)"
      ],
      "metadata": {
        "id": "FiB7p4on_8fC"
      },
      "execution_count": null,
      "outputs": []
    },
    {
      "cell_type": "code",
      "source": [
        "pred = h.argmax(h,axis =1)+1\n",
        "pred"
      ],
      "metadata": {
        "id": "rxN99fThh-dR"
      },
      "execution_count": null,
      "outputs": []
    },
    {
      "cell_type": "code",
      "source": [
        "d = pred-y_test\n",
        "accuracy = (1-np.count_nonzero(d)/len(d))*100"
      ],
      "metadata": {
        "id": "4TfBysKB-dzL"
      },
      "execution_count": null,
      "outputs": []
    }
  ]
}