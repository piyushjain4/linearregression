{
  "cells": [
    {
      "cell_type": "code",
      "execution_count": null,
      "metadata": {
        "id": "oOatWoNhqZAF"
      },
      "outputs": [],
      "source": [
        "import numpy as np\n",
        "import pandas as pd\n",
        "import matplotlib\n",
        "from matplotlib import pyplot as plt\n",
        "from google.colab import files"
      ]
    },
    {
      "cell_type": "code",
      "execution_count": null,
      "metadata": {
        "id": "pMaRtRiVq7mc"
      },
      "outputs": [],
      "source": [
        "uploaded = files.upload()"
      ]
    },
    {
      "cell_type": "code",
      "execution_count": null,
      "metadata": {
        "id": "MzL5RGKyq-VI"
      },
      "outputs": [],
      "source": [
        "df=pd.read_csv(\"Linear_train.csv\",index_col=0)\n",
        "df.head()"
      ]
    },
    {
      "cell_type": "code",
      "execution_count": null,
      "metadata": {
        "id": "daW9p654rFuq"
      },
      "outputs": [],
      "source": [
        "xa=df.drop([\"label\"],axis=1)"
      ]
    },
    {
      "cell_type": "code",
      "execution_count": null,
      "metadata": {
        "id": "SuU0kRuWtQJb"
      },
      "outputs": [],
      "source": [
        "xa"
      ]
    },
    {
      "cell_type": "code",
      "execution_count": null,
      "metadata": {
        "id": "-2BVuGR0tRXL"
      },
      "outputs": [],
      "source": [
        "ya=df[['label']]\n",
        "ya"
      ]
    },
    {
      "cell_type": "code",
      "execution_count": null,
      "metadata": {
        "id": "LGdZS_8iTuFz"
      },
      "outputs": [],
      "source": [
        "from sklearn.preprocessing import StandardScaler\n",
        "scaler = StandardScaler()\n",
        "xa_norm = scaler.fit_transform(xa)"
      ]
    },
    {
      "cell_type": "code",
      "execution_count": null,
      "metadata": {
        "id": "KzlyrhFQ_v0Q"
      },
      "outputs": [],
      "source": [
        ""
      ]
    },
    {
      "cell_type": "code",
      "execution_count": null,
      "metadata": {
        "id": "_h95AvD1txjP"
      },
      "outputs": [],
      "source": [
        "def linear_reg_model(X,Y,alpha,iteration):\n",
        "  m = X.shape[0]\n",
        "  ones = np.ones((m,1),dtype = float)\n",
        "  costlist =[]\n",
        "  X = np.concatenate((ones,X),axis = 1)\n",
        "  n = X.shape[1] \n",
        "  theta = np.ones((n,1),dtype=float)\n",
        "  for i in range(iteration): \n",
        "    h =np.dot(X,theta)\n",
        "    error = h-Y\n",
        "    sqerror = np.square(h-Y)\n",
        "    cost = 1/(2*m)*(np.sum(sqerror))\n",
        "    costlist.append(cost)\n",
        "    theta = theta-(alpha/m)*(np.dot(X.transpose(),error))\n",
        "    if i%10 == 0:\n",
        "      print (\"cost= {}\".format(costlist))\n",
        "\n",
        "  return costlist,theta\n",
        "\n",
        "\n",
        "\n"
      ]
    },
    {
      "cell_type": "code",
      "execution_count": null,
      "metadata": {
        "colab": {
          "background_save": true
        },
        "id": "87NKxaZe9zmM"
      },
      "outputs": [],
      "source": [
        "costlist,theta = linear_reg_model(xa_norm,ya,0.01,10000)\n",
        "print(theta)"
      ]
    },
    {
      "cell_type": "code",
      "execution_count": null,
      "metadata": {
        "id": "EhK2vUSQSE2q"
      },
      "outputs": [],
      "source": [
        "np.shape(theta)"
      ]
    },
    {
      "cell_type": "code",
      "execution_count": null,
      "metadata": {
        "id": "Jld1ML31OfwO"
      },
      "outputs": [],
      "source": [
        "print(costlist)"
      ]
    },
    {
      "cell_type": "code",
      "execution_count": null,
      "metadata": {
        "id": "FBjSAbcD0F01"
      },
      "outputs": [],
      "source": [
        "\n",
        "plt.title(\"cost on training data vs. iterations\") \n",
        "plt.xlabel(\"No. of iteration\") \n",
        "plt.ylabel(\"cost\") \n",
        "plt.plot(costlist) \n",
        "plt.show()"
      ]
    },
    {
      "cell_type": "code",
      "execution_count": null,
      "metadata": {
        "id": "OzimHZoX_iMB"
      },
      "outputs": [],
      "source": [
        "uploaded = files.upload()"
      ]
    },
    {
      "cell_type": "code",
      "execution_count": null,
      "metadata": {
        "id": "n7R3_QIg_wxv"
      },
      "outputs": [],
      "source": [
        "dft=pd.read_csv(\"Linear_test.csv\",index_col = 0)\n",
        "dft.head()"
      ]
    },
    {
      "cell_type": "code",
      "execution_count": null,
      "metadata": {
        "id": "tCXI02P31QBL"
      },
      "outputs": [],
      "source": [
        "x_test = dft.drop([\"label\"],axis = 1) "
      ]
    },
    {
      "cell_type": "code",
      "execution_count": null,
      "metadata": {
        "id": "h-N5uV_fQjg5"
      },
      "outputs": [],
      "source": [
        "np.shape(x_test)"
      ]
    },
    {
      "cell_type": "code",
      "execution_count": null,
      "metadata": {
        "id": "uhKgqsN4BB38"
      },
      "outputs": [],
      "source": [
        "y_test = dft[['label']]"
      ]
    },
    {
      "cell_type": "code",
      "execution_count": null,
      "metadata": {
        "id": "xaxPgiVNBhVW"
      },
      "outputs": [],
      "source": [
        "ones = np.ones((x_test.shape[0],1),dtype= int)"
      ]
    },
    {
      "cell_type": "code",
      "execution_count": null,
      "metadata": {
        "id": "PHFpksU3BWM8"
      },
      "outputs": [],
      "source": [
        "x_test = np.concatenate((ones,x_test),axis = 1)"
      ]
    },
    {
      "cell_type": "code",
      "execution_count": null,
      "metadata": {
        "id": "FVC_ZEZ7QwM4"
      },
      "outputs": [],
      "source": [
        "np.shape(x_test)"
      ]
    },
    {
      "cell_type": "code",
      "execution_count": null,
      "metadata": {
        "id": "qL6g3VuPJyrt"
      },
      "outputs": [],
      "source": [
        "from sklearn.preprocessing import MinMaxScaler\n",
        "norm = MinMaxScaler().fit(x_test)\n",
        "x_test_norm = norm.transform(x_test)"
      ]
    },
    {
      "cell_type": "code",
      "execution_count": null,
      "metadata": {
        "id": "2YXLw-tWPcy5"
      },
      "outputs": [],
      "source": [
        "y_pred = np.dot(x_test_norm,theta)"
      ]
    },
    {
      "cell_type": "code",
      "execution_count": null,
      "metadata": {
        "id": "vkiz8O-lptnM"
      },
      "outputs": [],
      "source": [
        "y_test"
      ]
    },
    {
      "cell_type": "code",
      "execution_count": null,
      "metadata": {
        "id": "NMeCSIaBKeYI"
      },
      "outputs": [],
      "source": [
        "y_pred"
      ]
    },
    {
      "cell_type": "code",
      "execution_count": null,
      "metadata": {
        "id": "o9dqgoWO0443"
      },
      "outputs": [],
      "source": [
        "d = y_test-y_pred\n",
        "rootmeansq = ((np.dot(np.transpose(d),d))/10000)**(0.5)\n",
        "rootmeansq"
      ]
    }
  ],
  "metadata": {
    "colab": {
      "collapsed_sections": [],
      "name": "linear regression re.ipynb",
      "provenance": []
    },
    "kernelspec": {
      "display_name": "Python 3",
      "name": "python3"
    },
    "language_info": {
      "name": "python"
    }
  },
  "nbformat": 4,
  "nbformat_minor": 0
}